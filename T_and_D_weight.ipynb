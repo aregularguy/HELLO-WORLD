{
 "cells": [
  {
   "cell_type": "code",
   "execution_count": 9,
   "id": "67fc32d1",
   "metadata": {},
   "outputs": [],
   "source": [
    "import pandas as pd\n",
    "import warnings\n",
    "warnings.filterwarnings(\"ignore\")"
   ]
  },
  {
   "cell_type": "code",
   "execution_count": 10,
   "id": "c9d32675",
   "metadata": {},
   "outputs": [],
   "source": [
    "data = pd.read_csv('data.csv')"
   ]
  },
  {
   "cell_type": "code",
   "execution_count": 11,
   "id": "9800ac59",
   "metadata": {},
   "outputs": [
    {
     "data": {
      "text/html": [
       "<div>\n",
       "<style scoped>\n",
       "    .dataframe tbody tr th:only-of-type {\n",
       "        vertical-align: middle;\n",
       "    }\n",
       "\n",
       "    .dataframe tbody tr th {\n",
       "        vertical-align: top;\n",
       "    }\n",
       "\n",
       "    .dataframe thead th {\n",
       "        text-align: right;\n",
       "    }\n",
       "</style>\n",
       "<table border=\"1\" class=\"dataframe\">\n",
       "  <thead>\n",
       "    <tr style=\"text-align: right;\">\n",
       "      <th></th>\n",
       "      <th>City</th>\n",
       "      <th>Class_A</th>\n",
       "      <th>Class_B</th>\n",
       "    </tr>\n",
       "  </thead>\n",
       "  <tbody>\n",
       "    <tr>\n",
       "      <th>0</th>\n",
       "      <td>Mumbai</td>\n",
       "      <td>51</td>\n",
       "      <td>62</td>\n",
       "    </tr>\n",
       "    <tr>\n",
       "      <th>1</th>\n",
       "      <td>Pune</td>\n",
       "      <td>56</td>\n",
       "      <td>76</td>\n",
       "    </tr>\n",
       "    <tr>\n",
       "      <th>2</th>\n",
       "      <td>Sangli</td>\n",
       "      <td>99</td>\n",
       "      <td>51</td>\n",
       "    </tr>\n",
       "    <tr>\n",
       "      <th>3</th>\n",
       "      <td>Kolhapur</td>\n",
       "      <td>73</td>\n",
       "      <td>66</td>\n",
       "    </tr>\n",
       "    <tr>\n",
       "      <th>4</th>\n",
       "      <td>Nagapur</td>\n",
       "      <td>75</td>\n",
       "      <td>54</td>\n",
       "    </tr>\n",
       "    <tr>\n",
       "      <th>5</th>\n",
       "      <td>Nashik</td>\n",
       "      <td>99</td>\n",
       "      <td>75</td>\n",
       "    </tr>\n",
       "  </tbody>\n",
       "</table>\n",
       "</div>"
      ],
      "text/plain": [
       "       City  Class_A  Class_B\n",
       "0    Mumbai       51       62\n",
       "1      Pune       56       76\n",
       "2    Sangli       99       51\n",
       "3  Kolhapur       73       66\n",
       "4   Nagapur       75       54\n",
       "5    Nashik       99       75"
      ]
     },
     "execution_count": 11,
     "metadata": {},
     "output_type": "execute_result"
    }
   ],
   "source": [
    "data"
   ]
  },
  {
   "cell_type": "code",
   "execution_count": 12,
   "id": "fc224e32",
   "metadata": {},
   "outputs": [],
   "source": [
    "data['total_class'] = data['Class_A']+data['Class_B']"
   ]
  },
  {
   "cell_type": "code",
   "execution_count": 13,
   "id": "4991eb28",
   "metadata": {},
   "outputs": [],
   "source": [
    "data['Class_A_Twt']=(data['Class_A']/data['total_class'])\n",
    "data['Class_B_Twt']=(data['Class_B']/data['total_class'])"
   ]
  },
  {
   "cell_type": "code",
   "execution_count": 14,
   "id": "fff2ef83",
   "metadata": {},
   "outputs": [],
   "source": [
    "data['Class_A_Dwt']=(data['Class_A']/sum(data['Class_A']))\n",
    "data['Class_B_Dwt']=(data['Class_B']/sum(data['Class_B']))"
   ]
  },
  {
   "cell_type": "code",
   "execution_count": 15,
   "id": "0855e814",
   "metadata": {},
   "outputs": [],
   "source": [
    "data = data.style.format(\n",
    "{'Class_A_Twt': \"{:.2%}\",\n",
    "'Class_B_Twt': \"{:.2%}\",\n",
    "'Class_A_Dwt': \"{:.2%}\",\n",
    "'Class_B_Dwt': \"{:.2%}\"})"
   ]
  },
  {
   "cell_type": "code",
   "execution_count": 16,
   "id": "786c820e",
   "metadata": {},
   "outputs": [
    {
     "data": {
      "text/html": [
       "<style type=\"text/css\">\n",
       "</style>\n",
       "<table id=\"T_4231d\">\n",
       "  <thead>\n",
       "    <tr>\n",
       "      <th class=\"blank level0\" >&nbsp;</th>\n",
       "      <th id=\"T_4231d_level0_col0\" class=\"col_heading level0 col0\" >City</th>\n",
       "      <th id=\"T_4231d_level0_col1\" class=\"col_heading level0 col1\" >Class_A</th>\n",
       "      <th id=\"T_4231d_level0_col2\" class=\"col_heading level0 col2\" >Class_B</th>\n",
       "      <th id=\"T_4231d_level0_col3\" class=\"col_heading level0 col3\" >total_class</th>\n",
       "      <th id=\"T_4231d_level0_col4\" class=\"col_heading level0 col4\" >Class_A_Twt</th>\n",
       "      <th id=\"T_4231d_level0_col5\" class=\"col_heading level0 col5\" >Class_B_Twt</th>\n",
       "      <th id=\"T_4231d_level0_col6\" class=\"col_heading level0 col6\" >Class_A_Dwt</th>\n",
       "      <th id=\"T_4231d_level0_col7\" class=\"col_heading level0 col7\" >Class_B_Dwt</th>\n",
       "    </tr>\n",
       "  </thead>\n",
       "  <tbody>\n",
       "    <tr>\n",
       "      <th id=\"T_4231d_level0_row0\" class=\"row_heading level0 row0\" >0</th>\n",
       "      <td id=\"T_4231d_row0_col0\" class=\"data row0 col0\" >Mumbai</td>\n",
       "      <td id=\"T_4231d_row0_col1\" class=\"data row0 col1\" >51</td>\n",
       "      <td id=\"T_4231d_row0_col2\" class=\"data row0 col2\" >62</td>\n",
       "      <td id=\"T_4231d_row0_col3\" class=\"data row0 col3\" >113</td>\n",
       "      <td id=\"T_4231d_row0_col4\" class=\"data row0 col4\" >45.13%</td>\n",
       "      <td id=\"T_4231d_row0_col5\" class=\"data row0 col5\" >54.87%</td>\n",
       "      <td id=\"T_4231d_row0_col6\" class=\"data row0 col6\" >11.26%</td>\n",
       "      <td id=\"T_4231d_row0_col7\" class=\"data row0 col7\" >16.15%</td>\n",
       "    </tr>\n",
       "    <tr>\n",
       "      <th id=\"T_4231d_level0_row1\" class=\"row_heading level0 row1\" >1</th>\n",
       "      <td id=\"T_4231d_row1_col0\" class=\"data row1 col0\" >Pune</td>\n",
       "      <td id=\"T_4231d_row1_col1\" class=\"data row1 col1\" >56</td>\n",
       "      <td id=\"T_4231d_row1_col2\" class=\"data row1 col2\" >76</td>\n",
       "      <td id=\"T_4231d_row1_col3\" class=\"data row1 col3\" >132</td>\n",
       "      <td id=\"T_4231d_row1_col4\" class=\"data row1 col4\" >42.42%</td>\n",
       "      <td id=\"T_4231d_row1_col5\" class=\"data row1 col5\" >57.58%</td>\n",
       "      <td id=\"T_4231d_row1_col6\" class=\"data row1 col6\" >12.36%</td>\n",
       "      <td id=\"T_4231d_row1_col7\" class=\"data row1 col7\" >19.79%</td>\n",
       "    </tr>\n",
       "    <tr>\n",
       "      <th id=\"T_4231d_level0_row2\" class=\"row_heading level0 row2\" >2</th>\n",
       "      <td id=\"T_4231d_row2_col0\" class=\"data row2 col0\" >Sangli</td>\n",
       "      <td id=\"T_4231d_row2_col1\" class=\"data row2 col1\" >99</td>\n",
       "      <td id=\"T_4231d_row2_col2\" class=\"data row2 col2\" >51</td>\n",
       "      <td id=\"T_4231d_row2_col3\" class=\"data row2 col3\" >150</td>\n",
       "      <td id=\"T_4231d_row2_col4\" class=\"data row2 col4\" >66.00%</td>\n",
       "      <td id=\"T_4231d_row2_col5\" class=\"data row2 col5\" >34.00%</td>\n",
       "      <td id=\"T_4231d_row2_col6\" class=\"data row2 col6\" >21.85%</td>\n",
       "      <td id=\"T_4231d_row2_col7\" class=\"data row2 col7\" >13.28%</td>\n",
       "    </tr>\n",
       "    <tr>\n",
       "      <th id=\"T_4231d_level0_row3\" class=\"row_heading level0 row3\" >3</th>\n",
       "      <td id=\"T_4231d_row3_col0\" class=\"data row3 col0\" >Kolhapur</td>\n",
       "      <td id=\"T_4231d_row3_col1\" class=\"data row3 col1\" >73</td>\n",
       "      <td id=\"T_4231d_row3_col2\" class=\"data row3 col2\" >66</td>\n",
       "      <td id=\"T_4231d_row3_col3\" class=\"data row3 col3\" >139</td>\n",
       "      <td id=\"T_4231d_row3_col4\" class=\"data row3 col4\" >52.52%</td>\n",
       "      <td id=\"T_4231d_row3_col5\" class=\"data row3 col5\" >47.48%</td>\n",
       "      <td id=\"T_4231d_row3_col6\" class=\"data row3 col6\" >16.11%</td>\n",
       "      <td id=\"T_4231d_row3_col7\" class=\"data row3 col7\" >17.19%</td>\n",
       "    </tr>\n",
       "    <tr>\n",
       "      <th id=\"T_4231d_level0_row4\" class=\"row_heading level0 row4\" >4</th>\n",
       "      <td id=\"T_4231d_row4_col0\" class=\"data row4 col0\" >Nagapur</td>\n",
       "      <td id=\"T_4231d_row4_col1\" class=\"data row4 col1\" >75</td>\n",
       "      <td id=\"T_4231d_row4_col2\" class=\"data row4 col2\" >54</td>\n",
       "      <td id=\"T_4231d_row4_col3\" class=\"data row4 col3\" >129</td>\n",
       "      <td id=\"T_4231d_row4_col4\" class=\"data row4 col4\" >58.14%</td>\n",
       "      <td id=\"T_4231d_row4_col5\" class=\"data row4 col5\" >41.86%</td>\n",
       "      <td id=\"T_4231d_row4_col6\" class=\"data row4 col6\" >16.56%</td>\n",
       "      <td id=\"T_4231d_row4_col7\" class=\"data row4 col7\" >14.06%</td>\n",
       "    </tr>\n",
       "    <tr>\n",
       "      <th id=\"T_4231d_level0_row5\" class=\"row_heading level0 row5\" >5</th>\n",
       "      <td id=\"T_4231d_row5_col0\" class=\"data row5 col0\" >Nashik</td>\n",
       "      <td id=\"T_4231d_row5_col1\" class=\"data row5 col1\" >99</td>\n",
       "      <td id=\"T_4231d_row5_col2\" class=\"data row5 col2\" >75</td>\n",
       "      <td id=\"T_4231d_row5_col3\" class=\"data row5 col3\" >174</td>\n",
       "      <td id=\"T_4231d_row5_col4\" class=\"data row5 col4\" >56.90%</td>\n",
       "      <td id=\"T_4231d_row5_col5\" class=\"data row5 col5\" >43.10%</td>\n",
       "      <td id=\"T_4231d_row5_col6\" class=\"data row5 col6\" >21.85%</td>\n",
       "      <td id=\"T_4231d_row5_col7\" class=\"data row5 col7\" >19.53%</td>\n",
       "    </tr>\n",
       "  </tbody>\n",
       "</table>\n"
      ],
      "text/plain": [
       "<pandas.io.formats.style.Styler at 0x1057bf4aaf0>"
      ]
     },
     "execution_count": 16,
     "metadata": {},
     "output_type": "execute_result"
    }
   ],
   "source": [
    "data"
   ]
  },
  {
   "cell_type": "code",
   "execution_count": null,
   "id": "de292dfb",
   "metadata": {},
   "outputs": [],
   "source": []
  }
 ],
 "metadata": {
  "kernelspec": {
   "display_name": "Python 3 (ipykernel)",
   "language": "python",
   "name": "python3"
  },
  "language_info": {
   "codemirror_mode": {
    "name": "ipython",
    "version": 3
   },
   "file_extension": ".py",
   "mimetype": "text/x-python",
   "name": "python",
   "nbconvert_exporter": "python",
   "pygments_lexer": "ipython3",
   "version": "3.9.7"
  }
 },
 "nbformat": 4,
 "nbformat_minor": 5
}
