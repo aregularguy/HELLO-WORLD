{
 "cells": [
  {
   "cell_type": "code",
   "execution_count": 1,
   "source": [
    "import math\r\n",
    "from itertools import combinations,permutations"
   ],
   "outputs": [],
   "metadata": {}
  },
  {
   "cell_type": "code",
   "execution_count": 2,
   "source": [
    "def read_data_in_dict(filename):\r\n",
    "    f = open(filename)\r\n",
    "    lines = f.readlines()\r\n",
    "    transactions = []\r\n",
    "    items = lines[0].split(',')\r\n",
    "    for line in lines[1:]:\r\n",
    "        transactions.append(list(map(int,line.split(','))))\r\n",
    "    data ={\r\n",
    "        'items':items,\r\n",
    "        'transactions':transactions\r\n",
    "    }\r\n",
    "    return data"
   ],
   "outputs": [],
   "metadata": {}
  },
  {
   "cell_type": "code",
   "execution_count": 3,
   "source": [
    "def get_freq(s,items,transactions):\r\n",
    "    freq_cnt=0\r\n",
    "    for t in transactions:\r\n",
    "        temp=1\r\n",
    "        for item in s:\r\n",
    "            temp*=t[items.index(item)]\r\n",
    "        if temp==1:\r\n",
    "            freq_cnt += 1  \r\n",
    "    return freq_cnt"
   ],
   "outputs": [],
   "metadata": {}
  },
  {
   "cell_type": "code",
   "execution_count": 4,
   "source": [
    "def frequent_itemsets(data,level,min_support):\r\n",
    "    items = data['items']\r\n",
    "    transactions = data['transactions']\r\n",
    "    min_freq = math.ceil(min_support*len(transactions))\r\n",
    "    sets = list(combinations(items,level))\r\n",
    "    frequent_sets = []\r\n",
    "    for s in sets:\r\n",
    "        freq=get_freq(s,items,transactions)\r\n",
    "        if freq>=min_freq:\r\n",
    "            frequent_sets.append(s)\r\n",
    "    return frequent_sets"
   ],
   "outputs": [],
   "metadata": {}
  },
  {
   "cell_type": "code",
   "execution_count": 5,
   "source": [
    "def generate_rule(data,min_support,min_confidence):\r\n",
    "    items = data['items']\r\n",
    "    transactions = data['transactions']\r\n",
    "    for l in range(2,len(data['items'])+1):\r\n",
    "        frequent_set = frequent_itemsets(data,l,min_support)\r\n",
    "        for s in frequent_set:\r\n",
    "            freq_s = get_freq(s,items,transactions)\r\n",
    "            _s_permute = list(permutations(s))\r\n",
    "            for _s in _s_permute:\r\n",
    "                for i in range(0,len(_s)-1):\r\n",
    "                    x = _s[0:i+1]\r\n",
    "                    y = _s[i+1:]\r\n",
    "                    freq_x = get_freq(x,items,transactions)\r\n",
    "                    c = freq_s/freq_x\r\n",
    "                    if c >= min_confidence:\r\n",
    "                        print(x,' -> ',y,'confidence is ',c)"
   ],
   "outputs": [],
   "metadata": {}
  },
  {
   "cell_type": "code",
   "execution_count": 6,
   "source": [
    "data = read_data_in_dict('book1.csv')\r\n",
    "generate_rule(data,0.5,0.4)"
   ],
   "outputs": [
    {
     "output_type": "stream",
     "name": "stdout",
     "text": [
      "('c',)  ->  ('d',) confidence is  1.0\n",
      "('d',)  ->  ('c',) confidence is  0.75\n"
     ]
    }
   ],
   "metadata": {}
  },
  {
   "cell_type": "code",
   "execution_count": null,
   "source": [],
   "outputs": [],
   "metadata": {}
  }
 ],
 "metadata": {
  "kernelspec": {
   "display_name": "Python 3 (ipykernel)",
   "language": "python",
   "name": "python3"
  },
  "language_info": {
   "codemirror_mode": {
    "name": "ipython",
    "version": 3
   },
   "file_extension": ".py",
   "mimetype": "text/x-python",
   "name": "python",
   "nbconvert_exporter": "python",
   "pygments_lexer": "ipython3",
   "version": "3.9.7"
  }
 },
 "nbformat": 4,
 "nbformat_minor": 5
}